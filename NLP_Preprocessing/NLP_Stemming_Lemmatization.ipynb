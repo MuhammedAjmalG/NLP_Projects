{
 "cells": [
  {
   "cell_type": "markdown",
   "id": "4fbf65c1",
   "metadata": {},
   "source": [
    "# Stemming:\n",
    "\n",
    "<p> Stemming reduces words to their base or root form by removing suffixes.\n",
    "It uses simple rules to remove common suffixes like \"-s,\" \"-es,\" \"-ing,\" \"-ed,\" etc.\n",
    "The resulting stemmed words may not always be actual words or have a meaningful semantic interpretation.\n",
    "Stemming is generally faster than lemmatization but may produce less accurate results.\n",
    "Example: The word \"running\" would be stemmed to \"run,\" and \"jumps\" would become \"jump.\"</p>\n",
    "\n",
    "# Lemmatization:\n",
    "\n",
    "<p> Lemmatization also reduces words to their base or root form, but it considers the word's context and part of speech (POS) tag.\n",
    "It applies more complex rules and uses a vocabulary or morphological analysis to transform words to their base form.\n",
    "The resulting lemmatized words are usually actual words and have a meaningful semantic interpretation.\n",
    "Lemmatization typically takes more computational time compared to stemming but can produce more accurate results.\n",
    "Example: The word \"running\" would be lemmatized to \"run,\" and \"jumps\" would remain \"jump.\"\n",
    "Both stemming and lemmatization have their advantages and disadvantages, and the choice depends on the specific task and requirements. Stemming is a simpler and faster approach, suitable for applications like search engines or text mining, where the exact base form of words is not critical. Lemmatization provides more accurate results by preserving the meaning of words and is commonly used in applications like text classification or sentiment analysis.</p>\n",
    "\n",
    "-  In the Python programming language, the NLTK (Natural Language Toolkit) library provides functionality for stemming and lemmatization. \n",
    "- It includes classes such as PorterStemmer for stemming and WordNetLemmatizer for lemmatization.\n",
    "\n"
   ]
  },
  {
   "cell_type": "code",
   "execution_count": 2,
   "id": "63da3495",
   "metadata": {},
   "outputs": [],
   "source": [
    "import nltk"
   ]
  },
  {
   "cell_type": "code",
   "execution_count": 3,
   "id": "8e4d6190",
   "metadata": {},
   "outputs": [
    {
     "name": "stderr",
     "output_type": "stream",
     "text": [
      "[nltk_data] Downloading package wordnet to C:\\Users\\MUHAMMED AJMAL\n",
      "[nltk_data]     G\\AppData\\Roaming\\nltk_data...\n",
      "[nltk_data]   Package wordnet is already up-to-date!\n"
     ]
    },
    {
     "data": {
      "text/plain": [
       "True"
      ]
     },
     "execution_count": 3,
     "metadata": {},
     "output_type": "execute_result"
    }
   ],
   "source": [
    "nltk.download('wordnet')"
   ]
  },
  {
   "cell_type": "code",
   "execution_count": 6,
   "id": "5e11b6c0",
   "metadata": {},
   "outputs": [],
   "source": [
    "from nltk.stem import PorterStemmer, WordNetLemmatizer"
   ]
  },
  {
   "cell_type": "code",
   "execution_count": 7,
   "id": "89cd4e89",
   "metadata": {},
   "outputs": [],
   "source": [
    "stemmed_text = PorterStemmer()\n",
    "lemmed_text = WordNetLemmatizer()"
   ]
  },
  {
   "cell_type": "code",
   "execution_count": 8,
   "id": "891fe5f4",
   "metadata": {},
   "outputs": [
    {
     "data": {
      "text/plain": [
       "list"
      ]
     },
     "execution_count": 8,
     "metadata": {},
     "output_type": "execute_result"
    }
   ],
   "source": [
    "text = ['I', 'love', 'natural', 'language', 'processing', '!']\n",
    "type(text)"
   ]
  },
  {
   "cell_type": "code",
   "execution_count": 9,
   "id": "c5fae266",
   "metadata": {},
   "outputs": [
    {
     "name": "stdout",
     "output_type": "stream",
     "text": [
      "I ==> i\n",
      "love ==> love\n",
      "natural ==> natur\n",
      "language ==> languag\n",
      "processing ==> process\n",
      "! ==> !\n"
     ]
    }
   ],
   "source": [
    "for i in text:\n",
    "    print(i, '==>',stemmed_text.stem(i))\n",
    "    "
   ]
  },
  {
   "cell_type": "code",
   "execution_count": 11,
   "id": "515b82cb",
   "metadata": {},
   "outputs": [
    {
     "name": "stdout",
     "output_type": "stream",
     "text": [
      "I ==> I\n",
      "love ==> love\n",
      "natural ==> natural\n",
      "language ==> language\n",
      "processing ==> processing\n",
      "! ==> !\n"
     ]
    }
   ],
   "source": [
    "for i in text:\n",
    "    print(i, '==>',lemmed_text.lemmatize(i))\n",
    "    "
   ]
  },
  {
   "cell_type": "code",
   "execution_count": 12,
   "id": "0e43f86f",
   "metadata": {},
   "outputs": [],
   "source": [
    "stemmed_list = []\n",
    "lemmed_list = []\n",
    "for i in text:\n",
    "    stemmed_list.append(stemmed_text.stem(i))\n",
    "    lemmed_list.append(lemmed_text.lemmatize(i))\n",
    "    "
   ]
  },
  {
   "cell_type": "code",
   "execution_count": 13,
   "id": "b96844d3",
   "metadata": {},
   "outputs": [
    {
     "data": {
      "text/plain": [
       "['i', 'love', 'natur', 'languag', 'process', '!']"
      ]
     },
     "metadata": {},
     "output_type": "display_data"
    },
    {
     "data": {
      "text/plain": [
       "['I', 'love', 'natural', 'language', 'processing', '!']"
      ]
     },
     "metadata": {},
     "output_type": "display_data"
    }
   ],
   "source": [
    "display(stemmed_list)\n",
    "display(lemmed_list)"
   ]
  },
  {
   "cell_type": "code",
   "execution_count": 14,
   "id": "804c6b77",
   "metadata": {},
   "outputs": [],
   "source": [
    "import pandas as pd"
   ]
  },
  {
   "cell_type": "code",
   "execution_count": 15,
   "id": "6f82ad6f",
   "metadata": {},
   "outputs": [],
   "source": [
    "df = pd.DataFrame(zip(text, stemmed_list, lemmed_list), columns=['Orginal_text', 'Stemmed_text', 'Lemmatized_text'])"
   ]
  },
  {
   "cell_type": "code",
   "execution_count": 16,
   "id": "be41ee47",
   "metadata": {},
   "outputs": [
    {
     "data": {
      "text/html": [
       "<div>\n",
       "<style scoped>\n",
       "    .dataframe tbody tr th:only-of-type {\n",
       "        vertical-align: middle;\n",
       "    }\n",
       "\n",
       "    .dataframe tbody tr th {\n",
       "        vertical-align: top;\n",
       "    }\n",
       "\n",
       "    .dataframe thead th {\n",
       "        text-align: right;\n",
       "    }\n",
       "</style>\n",
       "<table border=\"1\" class=\"dataframe\">\n",
       "  <thead>\n",
       "    <tr style=\"text-align: right;\">\n",
       "      <th></th>\n",
       "      <th>Orginal_text</th>\n",
       "      <th>Stemmed_text</th>\n",
       "      <th>Lemmatized_text</th>\n",
       "    </tr>\n",
       "  </thead>\n",
       "  <tbody>\n",
       "    <tr>\n",
       "      <th>0</th>\n",
       "      <td>I</td>\n",
       "      <td>i</td>\n",
       "      <td>I</td>\n",
       "    </tr>\n",
       "    <tr>\n",
       "      <th>1</th>\n",
       "      <td>love</td>\n",
       "      <td>love</td>\n",
       "      <td>love</td>\n",
       "    </tr>\n",
       "    <tr>\n",
       "      <th>2</th>\n",
       "      <td>natural</td>\n",
       "      <td>natur</td>\n",
       "      <td>natural</td>\n",
       "    </tr>\n",
       "    <tr>\n",
       "      <th>3</th>\n",
       "      <td>language</td>\n",
       "      <td>languag</td>\n",
       "      <td>language</td>\n",
       "    </tr>\n",
       "    <tr>\n",
       "      <th>4</th>\n",
       "      <td>processing</td>\n",
       "      <td>process</td>\n",
       "      <td>processing</td>\n",
       "    </tr>\n",
       "    <tr>\n",
       "      <th>5</th>\n",
       "      <td>!</td>\n",
       "      <td>!</td>\n",
       "      <td>!</td>\n",
       "    </tr>\n",
       "  </tbody>\n",
       "</table>\n",
       "</div>"
      ],
      "text/plain": [
       "  Orginal_text Stemmed_text Lemmatized_text\n",
       "0            I            i               I\n",
       "1         love         love            love\n",
       "2      natural        natur         natural\n",
       "3     language      languag        language\n",
       "4   processing      process      processing\n",
       "5            !            !               !"
      ]
     },
     "execution_count": 16,
     "metadata": {},
     "output_type": "execute_result"
    }
   ],
   "source": [
    "df"
   ]
  },
  {
   "cell_type": "code",
   "execution_count": null,
   "id": "73fefc0c",
   "metadata": {},
   "outputs": [],
   "source": []
  }
 ],
 "metadata": {
  "kernelspec": {
   "display_name": "Python 3 (ipykernel)",
   "language": "python",
   "name": "python3"
  },
  "language_info": {
   "codemirror_mode": {
    "name": "ipython",
    "version": 3
   },
   "file_extension": ".py",
   "mimetype": "text/x-python",
   "name": "python",
   "nbconvert_exporter": "python",
   "pygments_lexer": "ipython3",
   "version": "3.10.9"
  }
 },
 "nbformat": 4,
 "nbformat_minor": 5
}
